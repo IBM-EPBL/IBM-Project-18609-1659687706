{
  "cells": [
    {
      "cell_type": "markdown",
      "source": [
        "#***PROJECT DEVELOPMENT PHASE SPRINT 3***"
      ],
      "metadata": {
        "id": "JiU7fQ9t-ZOZ"
      },
      "id": "JiU7fQ9t-ZOZ"
    },
    {
      "cell_type": "markdown",
      "source": [
        "# **Amazon Prime EXPLORATORY DATA ANALYSIS of its shows and content.**"
      ],
      "metadata": {
        "id": "Uqdgra8z-ceo"
      },
      "id": "Uqdgra8z-ceo"
    },
    {
      "cell_type": "code",
      "execution_count": 3,
      "id": "3ae69352",
      "metadata": {
        "_cell_guid": "b1076dfc-b9ad-4769-8c92-a6c4dae69d19",
        "_uuid": "8f2839f25d086af736a60e9eeb907d3b93b6e0e5",
        "execution": {
          "iopub.execute_input": "2022-07-07T07:20:13.989233Z",
          "iopub.status.busy": "2022-07-07T07:20:13.988800Z",
          "iopub.status.idle": "2022-07-07T07:20:14.008145Z",
          "shell.execute_reply": "2022-07-07T07:20:14.007298Z"
        },
        "papermill": {
          "duration": 0.032825,
          "end_time": "2022-07-07T07:20:14.010397",
          "exception": false,
          "start_time": "2022-07-07T07:20:13.977572",
          "status": "completed"
        },
        "tags": [],
        "id": "3ae69352"
      },
      "outputs": [],
      "source": [
        "import pandas as pd\n",
        "import numpy as np\n",
        "from matplotlib import pyplot as plt\n",
        "import seaborn as sns\n",
        "import io\n",
        "from sklearn.linear_model import LinearRegression"
      ]
    },
    {
      "cell_type": "markdown",
      "id": "ed792f53",
      "metadata": {
        "papermill": {
          "duration": 0.008627,
          "end_time": "2022-07-07T07:20:14.027722",
          "exception": false,
          "start_time": "2022-07-07T07:20:14.019095",
          "status": "completed"
        },
        "tags": [],
        "id": "ed792f53"
      },
      "source": [
        "# **Importing Libraries**"
      ]
    },
    {
      "cell_type": "code",
      "execution_count": 4,
      "id": "8c4ea40d",
      "metadata": {
        "execution": {
          "iopub.execute_input": "2022-07-07T07:20:14.046981Z",
          "iopub.status.busy": "2022-07-07T07:20:14.046332Z",
          "iopub.status.idle": "2022-07-07T07:20:15.309073Z",
          "shell.execute_reply": "2022-07-07T07:20:15.307949Z"
        },
        "papermill": {
          "duration": 1.275647,
          "end_time": "2022-07-07T07:20:15.312098",
          "exception": false,
          "start_time": "2022-07-07T07:20:14.036451",
          "status": "completed"
        },
        "tags": [],
        "id": "8c4ea40d"
      },
      "outputs": [],
      "source": [
        "from sklearn import preprocessing\n",
        "from sklearn.model_selection import train_test_split\n",
        "import matplotlib.pyplot as plt\n",
        "import seaborn as sns\n",
        "from wordcloud import WordCloud, STOPWORDS, ImageColorGenerator"
      ]
    },
    {
      "cell_type": "markdown",
      "id": "9a6dc34b",
      "metadata": {
        "papermill": {
          "duration": 0.008311,
          "end_time": "2022-07-07T07:20:15.329337",
          "exception": false,
          "start_time": "2022-07-07T07:20:15.321026",
          "status": "completed"
        },
        "tags": [],
        "id": "9a6dc34b"
      },
      "source": [
        "# **Loading Dataset**"
      ]
    },
    {
      "cell_type": "code",
      "source": [
        "from google.colab import files\n",
        "uploaded = files.upload()"
      ],
      "metadata": {
        "colab": {
          "base_uri": "https://localhost:8080/",
          "height": 73
        },
        "id": "j891ppJp9Q5R",
        "outputId": "d2973ee5-b847-4297-9eba-0d751294cd0a"
      },
      "id": "j891ppJp9Q5R",
      "execution_count": 5,
      "outputs": [
        {
          "output_type": "display_data",
          "data": {
            "text/plain": [
              "<IPython.core.display.HTML object>"
            ],
            "text/html": [
              "\n",
              "     <input type=\"file\" id=\"files-03cb2c9b-3a52-4608-ba62-5d0a07ed7905\" name=\"files[]\" multiple disabled\n",
              "        style=\"border:none\" />\n",
              "     <output id=\"result-03cb2c9b-3a52-4608-ba62-5d0a07ed7905\">\n",
              "      Upload widget is only available when the cell has been executed in the\n",
              "      current browser session. Please rerun this cell to enable.\n",
              "      </output>\n",
              "      <script>// Copyright 2017 Google LLC\n",
              "//\n",
              "// Licensed under the Apache License, Version 2.0 (the \"License\");\n",
              "// you may not use this file except in compliance with the License.\n",
              "// You may obtain a copy of the License at\n",
              "//\n",
              "//      http://www.apache.org/licenses/LICENSE-2.0\n",
              "//\n",
              "// Unless required by applicable law or agreed to in writing, software\n",
              "// distributed under the License is distributed on an \"AS IS\" BASIS,\n",
              "// WITHOUT WARRANTIES OR CONDITIONS OF ANY KIND, either express or implied.\n",
              "// See the License for the specific language governing permissions and\n",
              "// limitations under the License.\n",
              "\n",
              "/**\n",
              " * @fileoverview Helpers for google.colab Python module.\n",
              " */\n",
              "(function(scope) {\n",
              "function span(text, styleAttributes = {}) {\n",
              "  const element = document.createElement('span');\n",
              "  element.textContent = text;\n",
              "  for (const key of Object.keys(styleAttributes)) {\n",
              "    element.style[key] = styleAttributes[key];\n",
              "  }\n",
              "  return element;\n",
              "}\n",
              "\n",
              "// Max number of bytes which will be uploaded at a time.\n",
              "const MAX_PAYLOAD_SIZE = 100 * 1024;\n",
              "\n",
              "function _uploadFiles(inputId, outputId) {\n",
              "  const steps = uploadFilesStep(inputId, outputId);\n",
              "  const outputElement = document.getElementById(outputId);\n",
              "  // Cache steps on the outputElement to make it available for the next call\n",
              "  // to uploadFilesContinue from Python.\n",
              "  outputElement.steps = steps;\n",
              "\n",
              "  return _uploadFilesContinue(outputId);\n",
              "}\n",
              "\n",
              "// This is roughly an async generator (not supported in the browser yet),\n",
              "// where there are multiple asynchronous steps and the Python side is going\n",
              "// to poll for completion of each step.\n",
              "// This uses a Promise to block the python side on completion of each step,\n",
              "// then passes the result of the previous step as the input to the next step.\n",
              "function _uploadFilesContinue(outputId) {\n",
              "  const outputElement = document.getElementById(outputId);\n",
              "  const steps = outputElement.steps;\n",
              "\n",
              "  const next = steps.next(outputElement.lastPromiseValue);\n",
              "  return Promise.resolve(next.value.promise).then((value) => {\n",
              "    // Cache the last promise value to make it available to the next\n",
              "    // step of the generator.\n",
              "    outputElement.lastPromiseValue = value;\n",
              "    return next.value.response;\n",
              "  });\n",
              "}\n",
              "\n",
              "/**\n",
              " * Generator function which is called between each async step of the upload\n",
              " * process.\n",
              " * @param {string} inputId Element ID of the input file picker element.\n",
              " * @param {string} outputId Element ID of the output display.\n",
              " * @return {!Iterable<!Object>} Iterable of next steps.\n",
              " */\n",
              "function* uploadFilesStep(inputId, outputId) {\n",
              "  const inputElement = document.getElementById(inputId);\n",
              "  inputElement.disabled = false;\n",
              "\n",
              "  const outputElement = document.getElementById(outputId);\n",
              "  outputElement.innerHTML = '';\n",
              "\n",
              "  const pickedPromise = new Promise((resolve) => {\n",
              "    inputElement.addEventListener('change', (e) => {\n",
              "      resolve(e.target.files);\n",
              "    });\n",
              "  });\n",
              "\n",
              "  const cancel = document.createElement('button');\n",
              "  inputElement.parentElement.appendChild(cancel);\n",
              "  cancel.textContent = 'Cancel upload';\n",
              "  const cancelPromise = new Promise((resolve) => {\n",
              "    cancel.onclick = () => {\n",
              "      resolve(null);\n",
              "    };\n",
              "  });\n",
              "\n",
              "  // Wait for the user to pick the files.\n",
              "  const files = yield {\n",
              "    promise: Promise.race([pickedPromise, cancelPromise]),\n",
              "    response: {\n",
              "      action: 'starting',\n",
              "    }\n",
              "  };\n",
              "\n",
              "  cancel.remove();\n",
              "\n",
              "  // Disable the input element since further picks are not allowed.\n",
              "  inputElement.disabled = true;\n",
              "\n",
              "  if (!files) {\n",
              "    return {\n",
              "      response: {\n",
              "        action: 'complete',\n",
              "      }\n",
              "    };\n",
              "  }\n",
              "\n",
              "  for (const file of files) {\n",
              "    const li = document.createElement('li');\n",
              "    li.append(span(file.name, {fontWeight: 'bold'}));\n",
              "    li.append(span(\n",
              "        `(${file.type || 'n/a'}) - ${file.size} bytes, ` +\n",
              "        `last modified: ${\n",
              "            file.lastModifiedDate ? file.lastModifiedDate.toLocaleDateString() :\n",
              "                                    'n/a'} - `));\n",
              "    const percent = span('0% done');\n",
              "    li.appendChild(percent);\n",
              "\n",
              "    outputElement.appendChild(li);\n",
              "\n",
              "    const fileDataPromise = new Promise((resolve) => {\n",
              "      const reader = new FileReader();\n",
              "      reader.onload = (e) => {\n",
              "        resolve(e.target.result);\n",
              "      };\n",
              "      reader.readAsArrayBuffer(file);\n",
              "    });\n",
              "    // Wait for the data to be ready.\n",
              "    let fileData = yield {\n",
              "      promise: fileDataPromise,\n",
              "      response: {\n",
              "        action: 'continue',\n",
              "      }\n",
              "    };\n",
              "\n",
              "    // Use a chunked sending to avoid message size limits. See b/62115660.\n",
              "    let position = 0;\n",
              "    do {\n",
              "      const length = Math.min(fileData.byteLength - position, MAX_PAYLOAD_SIZE);\n",
              "      const chunk = new Uint8Array(fileData, position, length);\n",
              "      position += length;\n",
              "\n",
              "      const base64 = btoa(String.fromCharCode.apply(null, chunk));\n",
              "      yield {\n",
              "        response: {\n",
              "          action: 'append',\n",
              "          file: file.name,\n",
              "          data: base64,\n",
              "        },\n",
              "      };\n",
              "\n",
              "      let percentDone = fileData.byteLength === 0 ?\n",
              "          100 :\n",
              "          Math.round((position / fileData.byteLength) * 100);\n",
              "      percent.textContent = `${percentDone}% done`;\n",
              "\n",
              "    } while (position < fileData.byteLength);\n",
              "  }\n",
              "\n",
              "  // All done.\n",
              "  yield {\n",
              "    response: {\n",
              "      action: 'complete',\n",
              "    }\n",
              "  };\n",
              "}\n",
              "\n",
              "scope.google = scope.google || {};\n",
              "scope.google.colab = scope.google.colab || {};\n",
              "scope.google.colab._files = {\n",
              "  _uploadFiles,\n",
              "  _uploadFilesContinue,\n",
              "};\n",
              "})(self);\n",
              "</script> "
            ]
          },
          "metadata": {}
        },
        {
          "output_type": "stream",
          "name": "stdout",
          "text": [
            "Saving amazon_prime_titles.csv to amazon_prime_titles.csv\n"
          ]
        }
      ]
    },
    {
      "cell_type": "code",
      "execution_count": 6,
      "id": "22cee834",
      "metadata": {
        "execution": {
          "iopub.execute_input": "2022-07-07T07:20:15.348093Z",
          "iopub.status.busy": "2022-07-07T07:20:15.347638Z",
          "iopub.status.idle": "2022-07-07T07:20:15.489760Z",
          "shell.execute_reply": "2022-07-07T07:20:15.488899Z"
        },
        "papermill": {
          "duration": 0.154703,
          "end_time": "2022-07-07T07:20:15.492440",
          "exception": false,
          "start_time": "2022-07-07T07:20:15.337737",
          "status": "completed"
        },
        "tags": [],
        "id": "22cee834"
      },
      "outputs": [],
      "source": [
        "df = pd.read_csv(\"amazon_prime_titles.csv\")"
      ]
    },
    {
      "cell_type": "markdown",
      "id": "57e07981",
      "metadata": {
        "papermill": {
          "duration": 0.008269,
          "end_time": "2022-07-07T07:20:15.509255",
          "exception": false,
          "start_time": "2022-07-07T07:20:15.500986",
          "status": "completed"
        },
        "tags": [],
        "id": "57e07981"
      },
      "source": [
        "# **Exploratory Data Analysis**\n"
      ]
    },
    {
      "cell_type": "code",
      "execution_count": 7,
      "id": "a8e1ad8a",
      "metadata": {
        "execution": {
          "iopub.execute_input": "2022-07-07T07:20:15.527796Z",
          "iopub.status.busy": "2022-07-07T07:20:15.527140Z",
          "iopub.status.idle": "2022-07-07T07:20:15.535266Z",
          "shell.execute_reply": "2022-07-07T07:20:15.534270Z"
        },
        "papermill": {
          "duration": 0.019804,
          "end_time": "2022-07-07T07:20:15.537394",
          "exception": false,
          "start_time": "2022-07-07T07:20:15.517590",
          "status": "completed"
        },
        "tags": [],
        "colab": {
          "base_uri": "https://localhost:8080/"
        },
        "id": "a8e1ad8a",
        "outputId": "3195fa05-bc74-49ad-d37c-dbef2aeb4773"
      },
      "outputs": [
        {
          "output_type": "execute_result",
          "data": {
            "text/plain": [
              "(9668, 12)"
            ]
          },
          "metadata": {},
          "execution_count": 7
        }
      ],
      "source": [
        "# shape of dataset\n",
        "df.shape"
      ]
    },
    {
      "cell_type": "code",
      "execution_count": 8,
      "id": "521eb671",
      "metadata": {
        "execution": {
          "iopub.execute_input": "2022-07-07T07:20:15.556638Z",
          "iopub.status.busy": "2022-07-07T07:20:15.556227Z",
          "iopub.status.idle": "2022-07-07T07:20:15.583106Z",
          "shell.execute_reply": "2022-07-07T07:20:15.581962Z"
        },
        "papermill": {
          "duration": 0.039343,
          "end_time": "2022-07-07T07:20:15.585522",
          "exception": false,
          "start_time": "2022-07-07T07:20:15.546179",
          "status": "completed"
        },
        "tags": [],
        "colab": {
          "base_uri": "https://localhost:8080/",
          "height": 389
        },
        "id": "521eb671",
        "outputId": "853fdf98-4510-4395-f63d-f98eb22bda69"
      },
      "outputs": [
        {
          "output_type": "execute_result",
          "data": {
            "text/plain": [
              "  show_id   type                 title        director  \\\n",
              "0      s1  Movie   The Grand Seduction    Don McKellar   \n",
              "1      s2  Movie  Take Care Good Night    Girish Joshi   \n",
              "2      s3  Movie  Secrets of Deception     Josh Webber   \n",
              "3      s4  Movie    Pink: Staying True  Sonia Anderson   \n",
              "4      s5  Movie         Monster Maker    Giles Foster   \n",
              "\n",
              "                                                cast         country  \\\n",
              "0     Brendan Gleeson, Taylor Kitsch, Gordon Pinsent          Canada   \n",
              "1   Mahesh Manjrekar, Abhay Mahajan, Sachin Khedekar           India   \n",
              "2  Tom Sizemore, Lorenzo Lamas, Robert LaSardo, R...   United States   \n",
              "3  Interviews with: Pink, Adele, Beyoncé, Britney...   United States   \n",
              "4  Harry Dean Stanton, Kieran O'Brien, George Cos...  United Kingdom   \n",
              "\n",
              "       date_added  release_year rating duration                listed_in  \\\n",
              "0  March 30, 2021          2014    NaN  113 min            Comedy, Drama   \n",
              "1  March 30, 2021          2018    13+  110 min     Drama, International   \n",
              "2  March 30, 2021          2017    NaN   74 min  Action, Drama, Suspense   \n",
              "3  March 30, 2021          2014    NaN   69 min              Documentary   \n",
              "4  March 30, 2021          1989    NaN   45 min           Drama, Fantasy   \n",
              "\n",
              "                                         description  \n",
              "0  A small fishing village must procure a local d...  \n",
              "1  A Metro Family decides to fight a Cyber Crimin...  \n",
              "2  After a man discovers his wife is cheating on ...  \n",
              "3  Pink breaks the mold once again, bringing her ...  \n",
              "4  Teenage Matt Banting wants to work with a famo...  "
            ],
            "text/html": [
              "\n",
              "  <div id=\"df-59ef2a48-bd7b-4ff2-a36f-1551894407ca\">\n",
              "    <div class=\"colab-df-container\">\n",
              "      <div>\n",
              "<style scoped>\n",
              "    .dataframe tbody tr th:only-of-type {\n",
              "        vertical-align: middle;\n",
              "    }\n",
              "\n",
              "    .dataframe tbody tr th {\n",
              "        vertical-align: top;\n",
              "    }\n",
              "\n",
              "    .dataframe thead th {\n",
              "        text-align: right;\n",
              "    }\n",
              "</style>\n",
              "<table border=\"1\" class=\"dataframe\">\n",
              "  <thead>\n",
              "    <tr style=\"text-align: right;\">\n",
              "      <th></th>\n",
              "      <th>show_id</th>\n",
              "      <th>type</th>\n",
              "      <th>title</th>\n",
              "      <th>director</th>\n",
              "      <th>cast</th>\n",
              "      <th>country</th>\n",
              "      <th>date_added</th>\n",
              "      <th>release_year</th>\n",
              "      <th>rating</th>\n",
              "      <th>duration</th>\n",
              "      <th>listed_in</th>\n",
              "      <th>description</th>\n",
              "    </tr>\n",
              "  </thead>\n",
              "  <tbody>\n",
              "    <tr>\n",
              "      <th>0</th>\n",
              "      <td>s1</td>\n",
              "      <td>Movie</td>\n",
              "      <td>The Grand Seduction</td>\n",
              "      <td>Don McKellar</td>\n",
              "      <td>Brendan Gleeson, Taylor Kitsch, Gordon Pinsent</td>\n",
              "      <td>Canada</td>\n",
              "      <td>March 30, 2021</td>\n",
              "      <td>2014</td>\n",
              "      <td>NaN</td>\n",
              "      <td>113 min</td>\n",
              "      <td>Comedy, Drama</td>\n",
              "      <td>A small fishing village must procure a local d...</td>\n",
              "    </tr>\n",
              "    <tr>\n",
              "      <th>1</th>\n",
              "      <td>s2</td>\n",
              "      <td>Movie</td>\n",
              "      <td>Take Care Good Night</td>\n",
              "      <td>Girish Joshi</td>\n",
              "      <td>Mahesh Manjrekar, Abhay Mahajan, Sachin Khedekar</td>\n",
              "      <td>India</td>\n",
              "      <td>March 30, 2021</td>\n",
              "      <td>2018</td>\n",
              "      <td>13+</td>\n",
              "      <td>110 min</td>\n",
              "      <td>Drama, International</td>\n",
              "      <td>A Metro Family decides to fight a Cyber Crimin...</td>\n",
              "    </tr>\n",
              "    <tr>\n",
              "      <th>2</th>\n",
              "      <td>s3</td>\n",
              "      <td>Movie</td>\n",
              "      <td>Secrets of Deception</td>\n",
              "      <td>Josh Webber</td>\n",
              "      <td>Tom Sizemore, Lorenzo Lamas, Robert LaSardo, R...</td>\n",
              "      <td>United States</td>\n",
              "      <td>March 30, 2021</td>\n",
              "      <td>2017</td>\n",
              "      <td>NaN</td>\n",
              "      <td>74 min</td>\n",
              "      <td>Action, Drama, Suspense</td>\n",
              "      <td>After a man discovers his wife is cheating on ...</td>\n",
              "    </tr>\n",
              "    <tr>\n",
              "      <th>3</th>\n",
              "      <td>s4</td>\n",
              "      <td>Movie</td>\n",
              "      <td>Pink: Staying True</td>\n",
              "      <td>Sonia Anderson</td>\n",
              "      <td>Interviews with: Pink, Adele, Beyoncé, Britney...</td>\n",
              "      <td>United States</td>\n",
              "      <td>March 30, 2021</td>\n",
              "      <td>2014</td>\n",
              "      <td>NaN</td>\n",
              "      <td>69 min</td>\n",
              "      <td>Documentary</td>\n",
              "      <td>Pink breaks the mold once again, bringing her ...</td>\n",
              "    </tr>\n",
              "    <tr>\n",
              "      <th>4</th>\n",
              "      <td>s5</td>\n",
              "      <td>Movie</td>\n",
              "      <td>Monster Maker</td>\n",
              "      <td>Giles Foster</td>\n",
              "      <td>Harry Dean Stanton, Kieran O'Brien, George Cos...</td>\n",
              "      <td>United Kingdom</td>\n",
              "      <td>March 30, 2021</td>\n",
              "      <td>1989</td>\n",
              "      <td>NaN</td>\n",
              "      <td>45 min</td>\n",
              "      <td>Drama, Fantasy</td>\n",
              "      <td>Teenage Matt Banting wants to work with a famo...</td>\n",
              "    </tr>\n",
              "  </tbody>\n",
              "</table>\n",
              "</div>\n",
              "      <button class=\"colab-df-convert\" onclick=\"convertToInteractive('df-59ef2a48-bd7b-4ff2-a36f-1551894407ca')\"\n",
              "              title=\"Convert this dataframe to an interactive table.\"\n",
              "              style=\"display:none;\">\n",
              "        \n",
              "  <svg xmlns=\"http://www.w3.org/2000/svg\" height=\"24px\"viewBox=\"0 0 24 24\"\n",
              "       width=\"24px\">\n",
              "    <path d=\"M0 0h24v24H0V0z\" fill=\"none\"/>\n",
              "    <path d=\"M18.56 5.44l.94 2.06.94-2.06 2.06-.94-2.06-.94-.94-2.06-.94 2.06-2.06.94zm-11 1L8.5 8.5l.94-2.06 2.06-.94-2.06-.94L8.5 2.5l-.94 2.06-2.06.94zm10 10l.94 2.06.94-2.06 2.06-.94-2.06-.94-.94-2.06-.94 2.06-2.06.94z\"/><path d=\"M17.41 7.96l-1.37-1.37c-.4-.4-.92-.59-1.43-.59-.52 0-1.04.2-1.43.59L10.3 9.45l-7.72 7.72c-.78.78-.78 2.05 0 2.83L4 21.41c.39.39.9.59 1.41.59.51 0 1.02-.2 1.41-.59l7.78-7.78 2.81-2.81c.8-.78.8-2.07 0-2.86zM5.41 20L4 18.59l7.72-7.72 1.47 1.35L5.41 20z\"/>\n",
              "  </svg>\n",
              "      </button>\n",
              "      \n",
              "  <style>\n",
              "    .colab-df-container {\n",
              "      display:flex;\n",
              "      flex-wrap:wrap;\n",
              "      gap: 12px;\n",
              "    }\n",
              "\n",
              "    .colab-df-convert {\n",
              "      background-color: #E8F0FE;\n",
              "      border: none;\n",
              "      border-radius: 50%;\n",
              "      cursor: pointer;\n",
              "      display: none;\n",
              "      fill: #1967D2;\n",
              "      height: 32px;\n",
              "      padding: 0 0 0 0;\n",
              "      width: 32px;\n",
              "    }\n",
              "\n",
              "    .colab-df-convert:hover {\n",
              "      background-color: #E2EBFA;\n",
              "      box-shadow: 0px 1px 2px rgba(60, 64, 67, 0.3), 0px 1px 3px 1px rgba(60, 64, 67, 0.15);\n",
              "      fill: #174EA6;\n",
              "    }\n",
              "\n",
              "    [theme=dark] .colab-df-convert {\n",
              "      background-color: #3B4455;\n",
              "      fill: #D2E3FC;\n",
              "    }\n",
              "\n",
              "    [theme=dark] .colab-df-convert:hover {\n",
              "      background-color: #434B5C;\n",
              "      box-shadow: 0px 1px 3px 1px rgba(0, 0, 0, 0.15);\n",
              "      filter: drop-shadow(0px 1px 2px rgba(0, 0, 0, 0.3));\n",
              "      fill: #FFFFFF;\n",
              "    }\n",
              "  </style>\n",
              "\n",
              "      <script>\n",
              "        const buttonEl =\n",
              "          document.querySelector('#df-59ef2a48-bd7b-4ff2-a36f-1551894407ca button.colab-df-convert');\n",
              "        buttonEl.style.display =\n",
              "          google.colab.kernel.accessAllowed ? 'block' : 'none';\n",
              "\n",
              "        async function convertToInteractive(key) {\n",
              "          const element = document.querySelector('#df-59ef2a48-bd7b-4ff2-a36f-1551894407ca');\n",
              "          const dataTable =\n",
              "            await google.colab.kernel.invokeFunction('convertToInteractive',\n",
              "                                                     [key], {});\n",
              "          if (!dataTable) return;\n",
              "\n",
              "          const docLinkHtml = 'Like what you see? Visit the ' +\n",
              "            '<a target=\"_blank\" href=https://colab.research.google.com/notebooks/data_table.ipynb>data table notebook</a>'\n",
              "            + ' to learn more about interactive tables.';\n",
              "          element.innerHTML = '';\n",
              "          dataTable['output_type'] = 'display_data';\n",
              "          await google.colab.output.renderOutput(dataTable, element);\n",
              "          const docLink = document.createElement('div');\n",
              "          docLink.innerHTML = docLinkHtml;\n",
              "          element.appendChild(docLink);\n",
              "        }\n",
              "      </script>\n",
              "    </div>\n",
              "  </div>\n",
              "  "
            ]
          },
          "metadata": {},
          "execution_count": 8
        }
      ],
      "source": [
        "# first 5 records of dataset\n",
        "df.head()"
      ]
    },
    {
      "cell_type": "code",
      "execution_count": 9,
      "id": "36b55ba9",
      "metadata": {
        "execution": {
          "iopub.execute_input": "2022-07-07T07:20:15.606470Z",
          "iopub.status.busy": "2022-07-07T07:20:15.605655Z",
          "iopub.status.idle": "2022-07-07T07:20:15.622551Z",
          "shell.execute_reply": "2022-07-07T07:20:15.621423Z"
        },
        "papermill": {
          "duration": 0.029902,
          "end_time": "2022-07-07T07:20:15.624958",
          "exception": false,
          "start_time": "2022-07-07T07:20:15.595056",
          "status": "completed"
        },
        "tags": [],
        "colab": {
          "base_uri": "https://localhost:8080/",
          "height": 406
        },
        "id": "36b55ba9",
        "outputId": "6ef36280-4b8e-4875-e9fb-5c84438b56f0"
      },
      "outputs": [
        {
          "output_type": "execute_result",
          "data": {
            "text/plain": [
              "     show_id     type                    title         director  \\\n",
              "9663   s9664    Movie      Pride Of The Bowery  Joseph H. Lewis   \n",
              "9664   s9665  TV Show            Planet Patrol              NaN   \n",
              "9665   s9666    Movie                  Outpost     Steve Barker   \n",
              "9666   s9667  TV Show  Maradona: Blessed Dream              NaN   \n",
              "9667   s9668    Movie              Harry Brown    Daniel Barber   \n",
              "\n",
              "                                                   cast country date_added  \\\n",
              "9663                           Leo Gorcey, Bobby Jordan     NaN        NaN   \n",
              "9664  DICK VOSBURGH, RONNIE STEVENS, LIBBY MORRIS, M...     NaN        NaN   \n",
              "9665  Ray Stevenson, Julian Wadham, Richard Brake, M...     NaN        NaN   \n",
              "9666  Esteban Recagno, Ezequiel Stremiz, Luciano Vit...     NaN        NaN   \n",
              "9667  Michael Caine, Emily Mortimer, Joseph Gilgun, ...     NaN        NaN   \n",
              "\n",
              "      release_year rating   duration                listed_in  \\\n",
              "9663          1940     7+     60 min                   Comedy   \n",
              "9664          2018    13+  4 Seasons                 TV Shows   \n",
              "9665          2008      R     90 min                   Action   \n",
              "9666          2021  TV-MA   1 Season            Drama, Sports   \n",
              "9667          2010      R    103 min  Action, Drama, Suspense   \n",
              "\n",
              "                                            description  \n",
              "9663  New York City street principles get an East Si...  \n",
              "9664  This is Earth, 2100AD - and these are the adve...  \n",
              "9665  In war-torn Eastern Europe, a world-weary grou...  \n",
              "9666  The series tells the story of Diego Maradona, ...  \n",
              "9667  Harry Brown, starring two-time Academy Award w...  "
            ],
            "text/html": [
              "\n",
              "  <div id=\"df-bb3a498a-9f06-4ce8-84c6-f3134b24f958\">\n",
              "    <div class=\"colab-df-container\">\n",
              "      <div>\n",
              "<style scoped>\n",
              "    .dataframe tbody tr th:only-of-type {\n",
              "        vertical-align: middle;\n",
              "    }\n",
              "\n",
              "    .dataframe tbody tr th {\n",
              "        vertical-align: top;\n",
              "    }\n",
              "\n",
              "    .dataframe thead th {\n",
              "        text-align: right;\n",
              "    }\n",
              "</style>\n",
              "<table border=\"1\" class=\"dataframe\">\n",
              "  <thead>\n",
              "    <tr style=\"text-align: right;\">\n",
              "      <th></th>\n",
              "      <th>show_id</th>\n",
              "      <th>type</th>\n",
              "      <th>title</th>\n",
              "      <th>director</th>\n",
              "      <th>cast</th>\n",
              "      <th>country</th>\n",
              "      <th>date_added</th>\n",
              "      <th>release_year</th>\n",
              "      <th>rating</th>\n",
              "      <th>duration</th>\n",
              "      <th>listed_in</th>\n",
              "      <th>description</th>\n",
              "    </tr>\n",
              "  </thead>\n",
              "  <tbody>\n",
              "    <tr>\n",
              "      <th>9663</th>\n",
              "      <td>s9664</td>\n",
              "      <td>Movie</td>\n",
              "      <td>Pride Of The Bowery</td>\n",
              "      <td>Joseph H. Lewis</td>\n",
              "      <td>Leo Gorcey, Bobby Jordan</td>\n",
              "      <td>NaN</td>\n",
              "      <td>NaN</td>\n",
              "      <td>1940</td>\n",
              "      <td>7+</td>\n",
              "      <td>60 min</td>\n",
              "      <td>Comedy</td>\n",
              "      <td>New York City street principles get an East Si...</td>\n",
              "    </tr>\n",
              "    <tr>\n",
              "      <th>9664</th>\n",
              "      <td>s9665</td>\n",
              "      <td>TV Show</td>\n",
              "      <td>Planet Patrol</td>\n",
              "      <td>NaN</td>\n",
              "      <td>DICK VOSBURGH, RONNIE STEVENS, LIBBY MORRIS, M...</td>\n",
              "      <td>NaN</td>\n",
              "      <td>NaN</td>\n",
              "      <td>2018</td>\n",
              "      <td>13+</td>\n",
              "      <td>4 Seasons</td>\n",
              "      <td>TV Shows</td>\n",
              "      <td>This is Earth, 2100AD - and these are the adve...</td>\n",
              "    </tr>\n",
              "    <tr>\n",
              "      <th>9665</th>\n",
              "      <td>s9666</td>\n",
              "      <td>Movie</td>\n",
              "      <td>Outpost</td>\n",
              "      <td>Steve Barker</td>\n",
              "      <td>Ray Stevenson, Julian Wadham, Richard Brake, M...</td>\n",
              "      <td>NaN</td>\n",
              "      <td>NaN</td>\n",
              "      <td>2008</td>\n",
              "      <td>R</td>\n",
              "      <td>90 min</td>\n",
              "      <td>Action</td>\n",
              "      <td>In war-torn Eastern Europe, a world-weary grou...</td>\n",
              "    </tr>\n",
              "    <tr>\n",
              "      <th>9666</th>\n",
              "      <td>s9667</td>\n",
              "      <td>TV Show</td>\n",
              "      <td>Maradona: Blessed Dream</td>\n",
              "      <td>NaN</td>\n",
              "      <td>Esteban Recagno, Ezequiel Stremiz, Luciano Vit...</td>\n",
              "      <td>NaN</td>\n",
              "      <td>NaN</td>\n",
              "      <td>2021</td>\n",
              "      <td>TV-MA</td>\n",
              "      <td>1 Season</td>\n",
              "      <td>Drama, Sports</td>\n",
              "      <td>The series tells the story of Diego Maradona, ...</td>\n",
              "    </tr>\n",
              "    <tr>\n",
              "      <th>9667</th>\n",
              "      <td>s9668</td>\n",
              "      <td>Movie</td>\n",
              "      <td>Harry Brown</td>\n",
              "      <td>Daniel Barber</td>\n",
              "      <td>Michael Caine, Emily Mortimer, Joseph Gilgun, ...</td>\n",
              "      <td>NaN</td>\n",
              "      <td>NaN</td>\n",
              "      <td>2010</td>\n",
              "      <td>R</td>\n",
              "      <td>103 min</td>\n",
              "      <td>Action, Drama, Suspense</td>\n",
              "      <td>Harry Brown, starring two-time Academy Award w...</td>\n",
              "    </tr>\n",
              "  </tbody>\n",
              "</table>\n",
              "</div>\n",
              "      <button class=\"colab-df-convert\" onclick=\"convertToInteractive('df-bb3a498a-9f06-4ce8-84c6-f3134b24f958')\"\n",
              "              title=\"Convert this dataframe to an interactive table.\"\n",
              "              style=\"display:none;\">\n",
              "        \n",
              "  <svg xmlns=\"http://www.w3.org/2000/svg\" height=\"24px\"viewBox=\"0 0 24 24\"\n",
              "       width=\"24px\">\n",
              "    <path d=\"M0 0h24v24H0V0z\" fill=\"none\"/>\n",
              "    <path d=\"M18.56 5.44l.94 2.06.94-2.06 2.06-.94-2.06-.94-.94-2.06-.94 2.06-2.06.94zm-11 1L8.5 8.5l.94-2.06 2.06-.94-2.06-.94L8.5 2.5l-.94 2.06-2.06.94zm10 10l.94 2.06.94-2.06 2.06-.94-2.06-.94-.94-2.06-.94 2.06-2.06.94z\"/><path d=\"M17.41 7.96l-1.37-1.37c-.4-.4-.92-.59-1.43-.59-.52 0-1.04.2-1.43.59L10.3 9.45l-7.72 7.72c-.78.78-.78 2.05 0 2.83L4 21.41c.39.39.9.59 1.41.59.51 0 1.02-.2 1.41-.59l7.78-7.78 2.81-2.81c.8-.78.8-2.07 0-2.86zM5.41 20L4 18.59l7.72-7.72 1.47 1.35L5.41 20z\"/>\n",
              "  </svg>\n",
              "      </button>\n",
              "      \n",
              "  <style>\n",
              "    .colab-df-container {\n",
              "      display:flex;\n",
              "      flex-wrap:wrap;\n",
              "      gap: 12px;\n",
              "    }\n",
              "\n",
              "    .colab-df-convert {\n",
              "      background-color: #E8F0FE;\n",
              "      border: none;\n",
              "      border-radius: 50%;\n",
              "      cursor: pointer;\n",
              "      display: none;\n",
              "      fill: #1967D2;\n",
              "      height: 32px;\n",
              "      padding: 0 0 0 0;\n",
              "      width: 32px;\n",
              "    }\n",
              "\n",
              "    .colab-df-convert:hover {\n",
              "      background-color: #E2EBFA;\n",
              "      box-shadow: 0px 1px 2px rgba(60, 64, 67, 0.3), 0px 1px 3px 1px rgba(60, 64, 67, 0.15);\n",
              "      fill: #174EA6;\n",
              "    }\n",
              "\n",
              "    [theme=dark] .colab-df-convert {\n",
              "      background-color: #3B4455;\n",
              "      fill: #D2E3FC;\n",
              "    }\n",
              "\n",
              "    [theme=dark] .colab-df-convert:hover {\n",
              "      background-color: #434B5C;\n",
              "      box-shadow: 0px 1px 3px 1px rgba(0, 0, 0, 0.15);\n",
              "      filter: drop-shadow(0px 1px 2px rgba(0, 0, 0, 0.3));\n",
              "      fill: #FFFFFF;\n",
              "    }\n",
              "  </style>\n",
              "\n",
              "      <script>\n",
              "        const buttonEl =\n",
              "          document.querySelector('#df-bb3a498a-9f06-4ce8-84c6-f3134b24f958 button.colab-df-convert');\n",
              "        buttonEl.style.display =\n",
              "          google.colab.kernel.accessAllowed ? 'block' : 'none';\n",
              "\n",
              "        async function convertToInteractive(key) {\n",
              "          const element = document.querySelector('#df-bb3a498a-9f06-4ce8-84c6-f3134b24f958');\n",
              "          const dataTable =\n",
              "            await google.colab.kernel.invokeFunction('convertToInteractive',\n",
              "                                                     [key], {});\n",
              "          if (!dataTable) return;\n",
              "\n",
              "          const docLinkHtml = 'Like what you see? Visit the ' +\n",
              "            '<a target=\"_blank\" href=https://colab.research.google.com/notebooks/data_table.ipynb>data table notebook</a>'\n",
              "            + ' to learn more about interactive tables.';\n",
              "          element.innerHTML = '';\n",
              "          dataTable['output_type'] = 'display_data';\n",
              "          await google.colab.output.renderOutput(dataTable, element);\n",
              "          const docLink = document.createElement('div');\n",
              "          docLink.innerHTML = docLinkHtml;\n",
              "          element.appendChild(docLink);\n",
              "        }\n",
              "      </script>\n",
              "    </div>\n",
              "  </div>\n",
              "  "
            ]
          },
          "metadata": {},
          "execution_count": 9
        }
      ],
      "source": [
        "# last 5 records of dataset\n",
        "df.tail()"
      ]
    },
    {
      "cell_type": "code",
      "execution_count": 10,
      "id": "cec28143",
      "metadata": {
        "execution": {
          "iopub.execute_input": "2022-07-07T07:20:15.646412Z",
          "iopub.status.busy": "2022-07-07T07:20:15.645612Z",
          "iopub.status.idle": "2022-07-07T07:20:15.683105Z",
          "shell.execute_reply": "2022-07-07T07:20:15.681777Z"
        },
        "papermill": {
          "duration": 0.051206,
          "end_time": "2022-07-07T07:20:15.685438",
          "exception": false,
          "start_time": "2022-07-07T07:20:15.634232",
          "status": "completed"
        },
        "tags": [],
        "colab": {
          "base_uri": "https://localhost:8080/"
        },
        "id": "cec28143",
        "outputId": "b27a007f-6a61-4b4b-9a2b-18228de700f8"
      },
      "outputs": [
        {
          "output_type": "stream",
          "name": "stdout",
          "text": [
            "<class 'pandas.core.frame.DataFrame'>\n",
            "RangeIndex: 9668 entries, 0 to 9667\n",
            "Data columns (total 12 columns):\n",
            " #   Column        Non-Null Count  Dtype \n",
            "---  ------        --------------  ----- \n",
            " 0   show_id       9668 non-null   object\n",
            " 1   type          9668 non-null   object\n",
            " 2   title         9668 non-null   object\n",
            " 3   director      7586 non-null   object\n",
            " 4   cast          8435 non-null   object\n",
            " 5   country       672 non-null    object\n",
            " 6   date_added    155 non-null    object\n",
            " 7   release_year  9668 non-null   int64 \n",
            " 8   rating        9331 non-null   object\n",
            " 9   duration      9668 non-null   object\n",
            " 10  listed_in     9668 non-null   object\n",
            " 11  description   9668 non-null   object\n",
            "dtypes: int64(1), object(11)\n",
            "memory usage: 906.5+ KB\n"
          ]
        }
      ],
      "source": [
        "# info regarding train dataset\n",
        "df.info()"
      ]
    },
    {
      "cell_type": "code",
      "execution_count": 11,
      "id": "0496b13f",
      "metadata": {
        "execution": {
          "iopub.execute_input": "2022-07-07T07:20:15.706301Z",
          "iopub.status.busy": "2022-07-07T07:20:15.705510Z",
          "iopub.status.idle": "2022-07-07T07:20:15.722133Z",
          "shell.execute_reply": "2022-07-07T07:20:15.720943Z"
        },
        "papermill": {
          "duration": 0.02989,
          "end_time": "2022-07-07T07:20:15.724572",
          "exception": false,
          "start_time": "2022-07-07T07:20:15.694682",
          "status": "completed"
        },
        "tags": [],
        "colab": {
          "base_uri": "https://localhost:8080/",
          "height": 300
        },
        "id": "0496b13f",
        "outputId": "d4b1445c-acac-458b-8457-47edd8bda56c"
      },
      "outputs": [
        {
          "output_type": "execute_result",
          "data": {
            "text/plain": [
              "       release_year\n",
              "count   9668.000000\n",
              "mean    2008.341849\n",
              "std       18.922482\n",
              "min     1920.000000\n",
              "25%     2007.000000\n",
              "50%     2016.000000\n",
              "75%     2019.000000\n",
              "max     2021.000000"
            ],
            "text/html": [
              "\n",
              "  <div id=\"df-c3081715-8de1-4fd3-a5f6-e7d022506216\">\n",
              "    <div class=\"colab-df-container\">\n",
              "      <div>\n",
              "<style scoped>\n",
              "    .dataframe tbody tr th:only-of-type {\n",
              "        vertical-align: middle;\n",
              "    }\n",
              "\n",
              "    .dataframe tbody tr th {\n",
              "        vertical-align: top;\n",
              "    }\n",
              "\n",
              "    .dataframe thead th {\n",
              "        text-align: right;\n",
              "    }\n",
              "</style>\n",
              "<table border=\"1\" class=\"dataframe\">\n",
              "  <thead>\n",
              "    <tr style=\"text-align: right;\">\n",
              "      <th></th>\n",
              "      <th>release_year</th>\n",
              "    </tr>\n",
              "  </thead>\n",
              "  <tbody>\n",
              "    <tr>\n",
              "      <th>count</th>\n",
              "      <td>9668.000000</td>\n",
              "    </tr>\n",
              "    <tr>\n",
              "      <th>mean</th>\n",
              "      <td>2008.341849</td>\n",
              "    </tr>\n",
              "    <tr>\n",
              "      <th>std</th>\n",
              "      <td>18.922482</td>\n",
              "    </tr>\n",
              "    <tr>\n",
              "      <th>min</th>\n",
              "      <td>1920.000000</td>\n",
              "    </tr>\n",
              "    <tr>\n",
              "      <th>25%</th>\n",
              "      <td>2007.000000</td>\n",
              "    </tr>\n",
              "    <tr>\n",
              "      <th>50%</th>\n",
              "      <td>2016.000000</td>\n",
              "    </tr>\n",
              "    <tr>\n",
              "      <th>75%</th>\n",
              "      <td>2019.000000</td>\n",
              "    </tr>\n",
              "    <tr>\n",
              "      <th>max</th>\n",
              "      <td>2021.000000</td>\n",
              "    </tr>\n",
              "  </tbody>\n",
              "</table>\n",
              "</div>\n",
              "      <button class=\"colab-df-convert\" onclick=\"convertToInteractive('df-c3081715-8de1-4fd3-a5f6-e7d022506216')\"\n",
              "              title=\"Convert this dataframe to an interactive table.\"\n",
              "              style=\"display:none;\">\n",
              "        \n",
              "  <svg xmlns=\"http://www.w3.org/2000/svg\" height=\"24px\"viewBox=\"0 0 24 24\"\n",
              "       width=\"24px\">\n",
              "    <path d=\"M0 0h24v24H0V0z\" fill=\"none\"/>\n",
              "    <path d=\"M18.56 5.44l.94 2.06.94-2.06 2.06-.94-2.06-.94-.94-2.06-.94 2.06-2.06.94zm-11 1L8.5 8.5l.94-2.06 2.06-.94-2.06-.94L8.5 2.5l-.94 2.06-2.06.94zm10 10l.94 2.06.94-2.06 2.06-.94-2.06-.94-.94-2.06-.94 2.06-2.06.94z\"/><path d=\"M17.41 7.96l-1.37-1.37c-.4-.4-.92-.59-1.43-.59-.52 0-1.04.2-1.43.59L10.3 9.45l-7.72 7.72c-.78.78-.78 2.05 0 2.83L4 21.41c.39.39.9.59 1.41.59.51 0 1.02-.2 1.41-.59l7.78-7.78 2.81-2.81c.8-.78.8-2.07 0-2.86zM5.41 20L4 18.59l7.72-7.72 1.47 1.35L5.41 20z\"/>\n",
              "  </svg>\n",
              "      </button>\n",
              "      \n",
              "  <style>\n",
              "    .colab-df-container {\n",
              "      display:flex;\n",
              "      flex-wrap:wrap;\n",
              "      gap: 12px;\n",
              "    }\n",
              "\n",
              "    .colab-df-convert {\n",
              "      background-color: #E8F0FE;\n",
              "      border: none;\n",
              "      border-radius: 50%;\n",
              "      cursor: pointer;\n",
              "      display: none;\n",
              "      fill: #1967D2;\n",
              "      height: 32px;\n",
              "      padding: 0 0 0 0;\n",
              "      width: 32px;\n",
              "    }\n",
              "\n",
              "    .colab-df-convert:hover {\n",
              "      background-color: #E2EBFA;\n",
              "      box-shadow: 0px 1px 2px rgba(60, 64, 67, 0.3), 0px 1px 3px 1px rgba(60, 64, 67, 0.15);\n",
              "      fill: #174EA6;\n",
              "    }\n",
              "\n",
              "    [theme=dark] .colab-df-convert {\n",
              "      background-color: #3B4455;\n",
              "      fill: #D2E3FC;\n",
              "    }\n",
              "\n",
              "    [theme=dark] .colab-df-convert:hover {\n",
              "      background-color: #434B5C;\n",
              "      box-shadow: 0px 1px 3px 1px rgba(0, 0, 0, 0.15);\n",
              "      filter: drop-shadow(0px 1px 2px rgba(0, 0, 0, 0.3));\n",
              "      fill: #FFFFFF;\n",
              "    }\n",
              "  </style>\n",
              "\n",
              "      <script>\n",
              "        const buttonEl =\n",
              "          document.querySelector('#df-c3081715-8de1-4fd3-a5f6-e7d022506216 button.colab-df-convert');\n",
              "        buttonEl.style.display =\n",
              "          google.colab.kernel.accessAllowed ? 'block' : 'none';\n",
              "\n",
              "        async function convertToInteractive(key) {\n",
              "          const element = document.querySelector('#df-c3081715-8de1-4fd3-a5f6-e7d022506216');\n",
              "          const dataTable =\n",
              "            await google.colab.kernel.invokeFunction('convertToInteractive',\n",
              "                                                     [key], {});\n",
              "          if (!dataTable) return;\n",
              "\n",
              "          const docLinkHtml = 'Like what you see? Visit the ' +\n",
              "            '<a target=\"_blank\" href=https://colab.research.google.com/notebooks/data_table.ipynb>data table notebook</a>'\n",
              "            + ' to learn more about interactive tables.';\n",
              "          element.innerHTML = '';\n",
              "          dataTable['output_type'] = 'display_data';\n",
              "          await google.colab.output.renderOutput(dataTable, element);\n",
              "          const docLink = document.createElement('div');\n",
              "          docLink.innerHTML = docLinkHtml;\n",
              "          element.appendChild(docLink);\n",
              "        }\n",
              "      </script>\n",
              "    </div>\n",
              "  </div>\n",
              "  "
            ]
          },
          "metadata": {},
          "execution_count": 11
        }
      ],
      "source": [
        "# statistical description of dataset\n",
        "df.describe()"
      ]
    },
    {
      "cell_type": "markdown",
      "id": "6d310c67",
      "metadata": {
        "papermill": {
          "duration": 0.009108,
          "end_time": "2022-07-07T07:20:15.743234",
          "exception": false,
          "start_time": "2022-07-07T07:20:15.734126",
          "status": "completed"
        },
        "tags": [],
        "id": "6d310c67"
      },
      "source": [
        "# **Missing data**"
      ]
    },
    {
      "cell_type": "code",
      "execution_count": 12,
      "id": "b39b4699",
      "metadata": {
        "execution": {
          "iopub.execute_input": "2022-07-07T07:20:15.764531Z",
          "iopub.status.busy": "2022-07-07T07:20:15.763745Z",
          "iopub.status.idle": "2022-07-07T07:20:15.783853Z",
          "shell.execute_reply": "2022-07-07T07:20:15.782777Z"
        },
        "papermill": {
          "duration": 0.033427,
          "end_time": "2022-07-07T07:20:15.786195",
          "exception": false,
          "start_time": "2022-07-07T07:20:15.752768",
          "status": "completed"
        },
        "tags": [],
        "colab": {
          "base_uri": "https://localhost:8080/"
        },
        "id": "b39b4699",
        "outputId": "2bbaf5ec-eb64-4090-f7eb-df52961e4186"
      },
      "outputs": [
        {
          "output_type": "execute_result",
          "data": {
            "text/plain": [
              "show_id            0\n",
              "type               0\n",
              "title              0\n",
              "director        2082\n",
              "cast            1233\n",
              "country         8996\n",
              "date_added      9513\n",
              "release_year       0\n",
              "rating           337\n",
              "duration           0\n",
              "listed_in          0\n",
              "description        0\n",
              "dtype: int64"
            ]
          },
          "metadata": {},
          "execution_count": 12
        }
      ],
      "source": [
        "# to find the sum of null values in the dataset\n",
        "df.isnull().sum()"
      ]
    },
    {
      "cell_type": "code",
      "execution_count": 13,
      "id": "24d404f5",
      "metadata": {
        "execution": {
          "iopub.execute_input": "2022-07-07T07:20:15.807842Z",
          "iopub.status.busy": "2022-07-07T07:20:15.807067Z",
          "iopub.status.idle": "2022-07-07T07:20:15.823945Z",
          "shell.execute_reply": "2022-07-07T07:20:15.823076Z"
        },
        "papermill": {
          "duration": 0.030684,
          "end_time": "2022-07-07T07:20:15.826458",
          "exception": false,
          "start_time": "2022-07-07T07:20:15.795774",
          "status": "completed"
        },
        "tags": [],
        "id": "24d404f5"
      },
      "outputs": [],
      "source": [
        "df['country'] = df['country'].fillna(df['country'].mode()[0])\n",
        "df['cast'].replace(np.nan,'No Data Found', inplace = True)\n",
        "df['director'].replace(np.nan,'No Data Found', inplace = True)\n",
        "df['rating'] = df['rating'].fillna(df['rating'].mode()[0])\n",
        "df['date_added'].replace(np.nan,'No Data Found', inplace = True)"
      ]
    },
    {
      "cell_type": "code",
      "execution_count": 14,
      "id": "3d924ba1",
      "metadata": {
        "execution": {
          "iopub.execute_input": "2022-07-07T07:20:15.848268Z",
          "iopub.status.busy": "2022-07-07T07:20:15.847849Z",
          "iopub.status.idle": "2022-07-07T07:20:15.873705Z",
          "shell.execute_reply": "2022-07-07T07:20:15.872587Z"
        },
        "papermill": {
          "duration": 0.039923,
          "end_time": "2022-07-07T07:20:15.876179",
          "exception": false,
          "start_time": "2022-07-07T07:20:15.836256",
          "status": "completed"
        },
        "tags": [],
        "colab": {
          "base_uri": "https://localhost:8080/"
        },
        "id": "3d924ba1",
        "outputId": "ecb9a1e1-8989-4589-811a-b31ad65ed15f"
      },
      "outputs": [
        {
          "output_type": "stream",
          "name": "stdout",
          "text": [
            "<class 'pandas.core.frame.DataFrame'>\n",
            "RangeIndex: 9668 entries, 0 to 9667\n",
            "Data columns (total 12 columns):\n",
            " #   Column        Non-Null Count  Dtype \n",
            "---  ------        --------------  ----- \n",
            " 0   show_id       9668 non-null   object\n",
            " 1   type          9668 non-null   object\n",
            " 2   title         9668 non-null   object\n",
            " 3   director      9668 non-null   object\n",
            " 4   cast          9668 non-null   object\n",
            " 5   country       9668 non-null   object\n",
            " 6   date_added    9668 non-null   object\n",
            " 7   release_year  9668 non-null   int64 \n",
            " 8   rating        9668 non-null   object\n",
            " 9   duration      9668 non-null   object\n",
            " 10  listed_in     9668 non-null   object\n",
            " 11  description   9668 non-null   object\n",
            "dtypes: int64(1), object(11)\n",
            "memory usage: 906.5+ KB\n"
          ]
        }
      ],
      "source": [
        "df.info()"
      ]
    },
    {
      "cell_type": "code",
      "execution_count": 15,
      "id": "a95ea151",
      "metadata": {
        "execution": {
          "iopub.execute_input": "2022-07-07T07:20:15.898210Z",
          "iopub.status.busy": "2022-07-07T07:20:15.897784Z",
          "iopub.status.idle": "2022-07-07T07:20:15.920509Z",
          "shell.execute_reply": "2022-07-07T07:20:15.919299Z"
        },
        "papermill": {
          "duration": 0.036466,
          "end_time": "2022-07-07T07:20:15.922886",
          "exception": false,
          "start_time": "2022-07-07T07:20:15.886420",
          "status": "completed"
        },
        "tags": [],
        "colab": {
          "base_uri": "https://localhost:8080/"
        },
        "id": "a95ea151",
        "outputId": "c3677d40-07d0-4b20-ebbd-08768d42eff0"
      },
      "outputs": [
        {
          "output_type": "execute_result",
          "data": {
            "text/plain": [
              "show_id         0\n",
              "type            0\n",
              "title           0\n",
              "director        0\n",
              "cast            0\n",
              "country         0\n",
              "date_added      0\n",
              "release_year    0\n",
              "rating          0\n",
              "duration        0\n",
              "listed_in       0\n",
              "description     0\n",
              "dtype: int64"
            ]
          },
          "metadata": {},
          "execution_count": 15
        }
      ],
      "source": [
        "df.isna().sum()"
      ]
    },
    {
      "cell_type": "code",
      "execution_count": 16,
      "id": "88a4f813",
      "metadata": {
        "execution": {
          "iopub.execute_input": "2022-07-07T07:20:15.945558Z",
          "iopub.status.busy": "2022-07-07T07:20:15.944516Z",
          "iopub.status.idle": "2022-07-07T07:20:16.046947Z",
          "shell.execute_reply": "2022-07-07T07:20:16.045573Z"
        },
        "papermill": {
          "duration": 0.11758,
          "end_time": "2022-07-07T07:20:16.050481",
          "exception": false,
          "start_time": "2022-07-07T07:20:15.932901",
          "status": "completed"
        },
        "tags": [],
        "colab": {
          "base_uri": "https://localhost:8080/",
          "height": 124
        },
        "id": "88a4f813",
        "outputId": "0610e797-6843-421b-891f-04863d62c7f9"
      },
      "outputs": [
        {
          "output_type": "stream",
          "name": "stderr",
          "text": [
            "WARNING:matplotlib.font_manager:findfont: Font family ['Amazon Ember'] not found. Falling back to DejaVu Sans.\n"
          ]
        },
        {
          "output_type": "display_data",
          "data": {
            "text/plain": [
              "<Figure size 216x72 with 1 Axes>"
            ],
            "image/png": "[encoded data removed]"
          },
          "metadata": {
            "needs_background": "light"
          }
        }
      ],
      "source": [
        "# Color Palette\n",
        "sns.palplot(['#1b2530', '#0f79af','#babdc0'])\n",
        "\n",
        "plt.title(\"Amazon Prime Palette \",loc='left',fontfamily='Amazon Ember',fontsize=15,y=1)\n",
        "plt.show()"
      ]
    },
    {
      "cell_type": "markdown",
      "id": "3b89ddc9",
      "metadata": {
        "papermill": {
          "duration": 0.017921,
          "end_time": "2022-07-07T07:20:16.087522",
          "exception": false,
          "start_time": "2022-07-07T07:20:16.069601",
          "status": "completed"
        },
        "tags": [],
        "id": "3b89ddc9"
      },
      "source": [
        "# **Visualization**"
      ]
    },
    {
      "cell_type": "markdown",
      "id": "a622d443",
      "metadata": {
        "papermill": {
          "duration": 0.017839,
          "end_time": "2022-07-07T07:20:16.123855",
          "exception": false,
          "start_time": "2022-07-07T07:20:16.106016",
          "status": "completed"
        },
        "tags": [],
        "id": "a622d443"
      },
      "source": [
        "# **Countplot Movies vs TV Show**"
      ]
    },
    {
      "cell_type": "code",
      "execution_count": 17,
      "id": "9418ab79",
      "metadata": {
        "execution": {
          "iopub.execute_input": "2022-07-07T07:20:16.147998Z",
          "iopub.status.busy": "2022-07-07T07:20:16.147569Z",
          "iopub.status.idle": "2022-07-07T07:20:16.349367Z",
          "shell.execute_reply": "2022-07-07T07:20:16.348143Z"
        },
        "papermill": {
          "duration": 0.215631,
          "end_time": "2022-07-07T07:20:16.351653",
          "exception": false,
          "start_time": "2022-07-07T07:20:16.136022",
          "status": "completed"
        },
        "tags": [],
        "colab": {
          "base_uri": "https://localhost:8080/",
          "height": 394
        },
        "id": "9418ab79",
        "outputId": "d1649863-1f64-4717-a5f9-ad1a9cee84db"
      },
      "outputs": [
        {
          "output_type": "display_data",
          "data": {
            "text/plain": [
              "<Figure size 576x432 with 1 Axes>"
            ],
            "image/png": "[encoded data removed]"
          },
          "metadata": {
            "needs_background": "light"
          }
        }
      ],
      "source": [
        "plt.figure(figsize=(8,6))\n",
        "sns.set(style=\"darkgrid\")\n",
        "cp = sns.countplot(x=\"type\", data=df, palette=[\"#1b2530\", \"#0f79af\"])"
      ]
    },
    {
      "cell_type": "markdown",
      "source": [
        "#**Rating Analysis**"
      ],
      "metadata": {
        "id": "yh6enDqI-EIo"
      },
      "id": "yh6enDqI-EIo"
    },
    {
      "cell_type": "code",
      "execution_count": 18,
      "id": "816f8964",
      "metadata": {
        "execution": {
          "iopub.execute_input": "2022-07-07T07:20:16.374542Z",
          "iopub.status.busy": "2022-07-07T07:20:16.374177Z",
          "iopub.status.idle": "2022-07-07T07:20:16.787018Z",
          "shell.execute_reply": "2022-07-07T07:20:16.785908Z"
        },
        "papermill": {
          "duration": 0.426801,
          "end_time": "2022-07-07T07:20:16.789274",
          "exception": false,
          "start_time": "2022-07-07T07:20:16.362473",
          "status": "completed"
        },
        "tags": [],
        "colab": {
          "base_uri": "https://localhost:8080/",
          "height": 442
        },
        "id": "816f8964",
        "outputId": "b296e0a6-9618-4d72-e08f-b422db118ee7"
      },
      "outputs": [
        {
          "output_type": "display_data",
          "data": {
            "text/plain": [
              "<Figure size 2160x720 with 1 Axes>"
            ],
            "image/png": "[encoded data removed]"
          },
          "metadata": {}
        }
      ],
      "source": [
        "plt.figure(figsize=(30,10))\n",
        "sns.set(style=\"darkgrid\")\n",
        "cp = sns.countplot(x=\"rating\", data=df, palette=[\"#1b2530\", \"#0f79af\"])"
      ]
    }
  ],
  "metadata": {
    "kernelspec": {
      "display_name": "Python 3",
      "language": "python",
      "name": "python3"
    },
    "language_info": {
      "codemirror_mode": {
        "name": "ipython",
        "version": 3
      },
      "file_extension": ".py",
      "mimetype": "text/x-python",
      "name": "python",
      "nbconvert_exporter": "python",
      "pygments_lexer": "ipython3",
      "version": "3.7.12"
    },
    "papermill": {
      "default_parameters": {},
      "duration": 30.490144,
      "end_time": "2022-07-07T07:20:34.930039",
      "environment_variables": {},
      "exception": null,
      "input_path": "__notebook__.ipynb",
      "output_path": "__notebook__.ipynb",
      "parameters": {},
      "start_time": "2022-07-07T07:20:04.439895",
      "version": "2.3.4"
    },
    "colab": {
      "provenance": []
    }
  },
  "nbformat": 4,
  "nbformat_minor": 5
}