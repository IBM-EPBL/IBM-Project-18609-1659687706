{
  "nbformat": 4,
  "nbformat_minor": 0,
  "metadata": {
    "colab": {
      "provenance": []
    },
    "kernelspec": {
      "name": "python3",
      "display_name": "Python 3"
    },
    "language_info": {
      "name": "python"
    }
  },
  "cells": [
    {
      "cell_type": "markdown",
      "source": [
        "> **EXERCISES**"
      ],
      "metadata": {
        "id": "_ydp0Y-XFsUQ"
      }
    },
    {
      "cell_type": "markdown",
      "source": [
        "**1.What is 7 to the power of 4?**"
      ],
      "metadata": {
        "id": "V5ZBPQVrF1jX"
      }
    },
    {
      "cell_type": "code",
      "source": [
        "7**4"
      ],
      "metadata": {
        "colab": {
          "base_uri": "https://localhost:8080/"
        },
        "id": "9Txu8YSxFsD3",
        "outputId": "b24fd799-9bfd-4fe1-f95f-4af43e65e5db"
      },
      "execution_count": 1,
      "outputs": [
        {
          "output_type": "execute_result",
          "data": {
            "text/plain": [
              "2401"
            ]
          },
          "metadata": {},
          "execution_count": 1
        }
      ]
    },
    {
      "cell_type": "markdown",
      "source": [
        "**2.Split this string:**\n",
        "\n",
        "**s = \"Hi there Sam!\"**\n",
        "\n",
        "**into a list.**"
      ],
      "metadata": {
        "id": "id1tLklUF8QI"
      }
    },
    {
      "cell_type": "code",
      "source": [
        "s = \"Hi there Sam!\"\n",
        "result = s.split()\n",
        "print(result)"
      ],
      "metadata": {
        "colab": {
          "base_uri": "https://localhost:8080/"
        },
        "id": "lTtxPYdlF7aT",
        "outputId": "f388db9e-8fbf-46bc-db1c-e21bf6869a02"
      },
      "execution_count": 2,
      "outputs": [
        {
          "output_type": "stream",
          "name": "stdout",
          "text": [
            "['Hi', 'there', 'Sam!']\n"
          ]
        }
      ]
    },
    {
      "cell_type": "markdown",
      "source": [
        "**3.Split this string:**\n",
        "\n",
        "**s = \"Hi there dad!\"**\n",
        "\n",
        "**into a list.**"
      ],
      "metadata": {
        "id": "D8kUXVkoGRPf"
      }
    },
    {
      "cell_type": "code",
      "source": [
        "s = \"Hi there dad!\"\n",
        "result = s.split()\n",
        "print(result)\n"
      ],
      "metadata": {
        "colab": {
          "base_uri": "https://localhost:8080/"
        },
        "id": "bqsgExM-GYAX",
        "outputId": "6fff0569-6953-450f-e041-35aa1b01d597"
      },
      "execution_count": 3,
      "outputs": [
        {
          "output_type": "stream",
          "name": "stdout",
          "text": [
            "['Hi', 'there', 'dad!']\n"
          ]
        }
      ]
    },
    {
      "cell_type": "markdown",
      "source": [
        "**4.Given the variables:**\n",
        "\n",
        "**planet = \"Earth\"**\n",
        "**diameter = 12742**\n",
        "\n",
        "**Use .format() to print the following string:**\n",
        "\n",
        "**The diameter of Earth is 12742 kilometers.**"
      ],
      "metadata": {
        "id": "Yv6EOzJeGdn3"
      }
    },
    {
      "cell_type": "code",
      "source": [
        "print(\"The diameter of {planet} is {diameter} km.\".format(planet = \"Earth\",\n",
        "diameter = 12742))\n",
        "print(\"The diameter of {} is {} km.\".format(\"Earth\",\"12742\"))"
      ],
      "metadata": {
        "colab": {
          "base_uri": "https://localhost:8080/"
        },
        "id": "r1bV1Z92Gavf",
        "outputId": "230abbe6-79ea-4830-9f17-ecf251e8ebdf"
      },
      "execution_count": 16,
      "outputs": [
        {
          "output_type": "stream",
          "name": "stdout",
          "text": [
            "The diameter of Earth is 12742 km.\n",
            "The diameter of Earth is 12742 km.\n"
          ]
        }
      ]
    },
    {
      "cell_type": "markdown",
      "source": [
        "**5.Given this nested list, use indexing to grab the word \"hello\"**\n",
        "\n",
        "**lst = [1,2,[3,4],[5,[100,200,['hello']],23,11],1,7]**"
      ],
      "metadata": {
        "id": "5TymSIC4Gvx3"
      }
    },
    {
      "cell_type": "code",
      "source": [
        "lst = [1,2,[3,4],[5,[100,200,['hello']],23,11],1,7]\n",
        "lst[3][1][2][0]"
      ],
      "metadata": {
        "colab": {
          "base_uri": "https://localhost:8080/",
          "height": 36
        },
        "id": "Q3nGl2RTGt-m",
        "outputId": "82846a1c-56a7-4044-b532-41244dda60f8"
      },
      "execution_count": 5,
      "outputs": [
        {
          "output_type": "execute_result",
          "data": {
            "text/plain": [
              "'hello'"
            ],
            "application/vnd.google.colaboratory.intrinsic+json": {
              "type": "string"
            }
          },
          "metadata": {},
          "execution_count": 5
        }
      ]
    },
    {
      "cell_type": "markdown",
      "source": [
        "**6.Given this nest dictionary grab the word \"hello\". Be prepared, this will be annoying/tricky**\n",
        "\n",
        "**d = {'k1':[1,2,3,{'tricky':['oh','man','inception',{'target':[1,2,3,'hello']}]}]}**"
      ],
      "metadata": {
        "id": "0cQPnxiyG93X"
      }
    },
    {
      "cell_type": "code",
      "source": [
        "d = {'k1':[1,2,3,{'tricky':['oh','man','inception',{'target':[1,2,3,'hello']}]}]}\n",
        "d['k1'][3]['tricky'][3]['target'][3]"
      ],
      "metadata": {
        "colab": {
          "base_uri": "https://localhost:8080/",
          "height": 36
        },
        "id": "hB3rp0cmG8VW",
        "outputId": "926d0891-69e1-42ac-c8f7-53e01f7983fc"
      },
      "execution_count": 6,
      "outputs": [
        {
          "output_type": "execute_result",
          "data": {
            "text/plain": [
              "'hello'"
            ],
            "application/vnd.google.colaboratory.intrinsic+json": {
              "type": "string"
            }
          },
          "metadata": {},
          "execution_count": 6
        }
      ]
    },
    {
      "cell_type": "markdown",
      "source": [
        "**7.What is the main difference between a tuple and a list?**"
      ],
      "metadata": {
        "id": "CIg-lW1_HHUn"
      }
    },
    {
      "cell_type": "code",
      "source": [
        "# tuple is immutable where list is mutable"
      ],
      "metadata": {
        "id": "ELftLTTXHFDG"
      },
      "execution_count": null,
      "outputs": []
    },
    {
      "cell_type": "markdown",
      "source": [
        "**8.Create a function that grabs the email website domain from a string in the form:**\n",
        "\n",
        "**user@domain.com**\n",
        "\n",
        "**So for example, passing \"user@domain.com\" would return: domain.com**"
      ],
      "metadata": {
        "id": "C4voh-_fHREP"
      }
    },
    {
      "cell_type": "code",
      "source": [
        "def getDom(email):\n",
        "    return email.split('@')[-1]\n",
        "getDom('user@domain.com')"
      ],
      "metadata": {
        "colab": {
          "base_uri": "https://localhost:8080/",
          "height": 36
        },
        "id": "NY9qltNMHar_",
        "outputId": "d579942b-05d8-43f9-8235-e8ed094a81fe"
      },
      "execution_count": 17,
      "outputs": [
        {
          "output_type": "execute_result",
          "data": {
            "text/plain": [
              "'domain.com'"
            ],
            "application/vnd.google.colaboratory.intrinsic+json": {
              "type": "string"
            }
          },
          "metadata": {},
          "execution_count": 17
        }
      ]
    },
    {
      "cell_type": "code",
      "source": [
        "def getDomain(email):\n",
        "    return email.split('@')[1]\n",
        "getDomain('user@domain.com')"
      ],
      "metadata": {
        "colab": {
          "base_uri": "https://localhost:8080/",
          "height": 36
        },
        "id": "STNfn7DGHdFO",
        "outputId": "905de97b-90e4-4507-f40e-4b8b2e1f452d"
      },
      "execution_count": 8,
      "outputs": [
        {
          "output_type": "execute_result",
          "data": {
            "text/plain": [
              "'domain.com'"
            ],
            "application/vnd.google.colaboratory.intrinsic+json": {
              "type": "string"
            }
          },
          "metadata": {},
          "execution_count": 8
        }
      ]
    },
    {
      "cell_type": "markdown",
      "source": [
        "**9.Create a basic function that returns True if the word 'dog' is contained in the input string. Don't worry about edge cases like a punctuation being attached to the word dog, but do account for capitalization.**"
      ],
      "metadata": {
        "id": "yMZlNE4iHkV4"
      }
    },
    {
      "cell_type": "code",
      "source": [
        "def findDog(string):\n",
        "    temp = string.split()\n",
        "    return temp\n",
        "result = findDog('will check if there is dog in this line')\n",
        "if \"dog\" in result:\n",
        "   print(\"True\")"
      ],
      "metadata": {
        "colab": {
          "base_uri": "https://localhost:8080/"
        },
        "id": "R3ZJlpEVHfCO",
        "outputId": "ae4f27c4-29e3-495f-a7c4-6f0d8a8240fa"
      },
      "execution_count": 18,
      "outputs": [
        {
          "output_type": "stream",
          "name": "stdout",
          "text": [
            "True\n"
          ]
        }
      ]
    },
    {
      "cell_type": "code",
      "source": [
        "result = findDog('will check if there is animal in this line')\n",
        "if \"dog\" in result:\n",
        "   print(\"True\")\n",
        "else:\n",
        "  print(\"False\")"
      ],
      "metadata": {
        "colab": {
          "base_uri": "https://localhost:8080/"
        },
        "id": "z4hvMi1KJTNn",
        "outputId": "0cfe8fce-a490-42bf-ed8f-0c20ded2fc9f"
      },
      "execution_count": 19,
      "outputs": [
        {
          "output_type": "stream",
          "name": "stdout",
          "text": [
            "False\n"
          ]
        }
      ]
    },
    {
      "cell_type": "markdown",
      "source": [
        "**10.Create a function that counts the number of times the word \"dog\" occurs in a string. Again ignore edge cases.**"
      ],
      "metadata": {
        "id": "pKs-75UOHpzH"
      }
    },
    {
      "cell_type": "code",
      "source": [
        "str = \" I saw a big golden dog , one small pink dog and 4 brown dogs\"\n",
        "count = 0\n",
        "result = str.split()\n",
        "for i in result:\n",
        "  if i == \"dog\":\n",
        "    count += 1\n",
        "print(count)"
      ],
      "metadata": {
        "colab": {
          "base_uri": "https://localhost:8080/"
        },
        "id": "q7AnVH7QHobW",
        "outputId": "1e8ee30c-b95c-4423-bfa9-7af91b0bebd9"
      },
      "execution_count": 21,
      "outputs": [
        {
          "output_type": "stream",
          "name": "stdout",
          "text": [
            "2\n"
          ]
        }
      ]
    },
    {
      "cell_type": "markdown",
      "source": [
        "**11.You are driving a little too fast, and a police officer stops you. Write a function to return one of 3 possible results: \"No ticket\", \"Small ticket\", or \"Big Ticket\". If your speed is 60 or less, the result is \"No Ticket\". If speed is between 61 and 80 inclusive, the result is \"Small Ticket\". If speed is 81 or more, the result is \"Big Ticket\". Unless it is your birthday (encoded as a boolean value in the parameters of the function) -- on your birthday, your speed can be 5 higher in all cases. ***"
      ],
      "metadata": {
        "id": "9plq8gH_H0N_"
      }
    },
    {
      "cell_type": "code",
      "source": [
        "def caughtSpeeding(speed, is_birthday):\n",
        "    \n",
        "    if is_birthday:\n",
        "        speeding = speed - 5\n",
        "    else:\n",
        "        speeding = speed\n",
        "    \n",
        "    if speeding > 80:\n",
        "        return 'Big Ticket'\n",
        "    elif speeding > 60:\n",
        "        return 'Small Ticket'\n",
        "    else:\n",
        "        return 'No Ticket'\n",
        "print(caughtSpeeding(110,False))\n",
        "print(caughtSpeeding(60,True))\n",
        "print(caughtSpeeding(50,True))"
      ],
      "metadata": {
        "colab": {
          "base_uri": "https://localhost:8080/"
        },
        "id": "PpGKI_M9Hyoe",
        "outputId": "fe62ac65-f165-4a6a-d206-ed1e2ba701be"
      },
      "execution_count": 28,
      "outputs": [
        {
          "output_type": "stream",
          "name": "stdout",
          "text": [
            "Big Ticket\n",
            "No Ticket\n",
            "No Ticket\n"
          ]
        }
      ]
    },
    {
      "cell_type": "markdown",
      "source": [
        "**11.Create an employee list with basic salary values(at least 5 values for 5 employees) and using a for loop retreive each employee salary and calculate total salary expenditure.**"
      ],
      "metadata": {
        "id": "Hyv77w5TIVLs"
      }
    },
    {
      "cell_type": "code",
      "source": [
        "emps = [\"a\", \"b\", \"c\", \"d\", \"e\"]    \n",
        "sal = {}\n",
        "for emp in emps:\n",
        "       amount = int(input(\"Enter salary:\"))\n",
        "       sal[emp]=amount\n",
        "for emp in emps:\n",
        "   print(\"The salary of\",emp,\"is\",sal[emp])\n",
        "amts = sal.values()\n",
        "exp = 0\n",
        "for i in amts:\n",
        "  exp += i\n",
        "print(\"Total Expenditure:\",exp)"
      ],
      "metadata": {
        "colab": {
          "base_uri": "https://localhost:8080/"
        },
        "id": "nWlcDR0eIdZo",
        "outputId": "13135dbc-54db-4d9d-ec2a-afc30869bb3a"
      },
      "execution_count": 29,
      "outputs": [
        {
          "output_type": "stream",
          "name": "stdout",
          "text": [
            "Enter salary:1000\n",
            "Enter salary:400\n",
            "Enter salary:50000\n",
            "Enter salary:3450\n",
            "Enter salary:1000000\n",
            "The salary of a is 1000\n",
            "The salary of b is 400\n",
            "The salary of c is 50000\n",
            "The salary of d is 3450\n",
            "The salary of e is 1000000\n",
            "Total Expenditure: 1054850\n"
          ]
        }
      ]
    },
    {
      "cell_type": "code",
      "source": [
        "dictOne = { 'Empid': 1234,'Empname': 'a', 'Basicpay': 1500}\n",
        "dictTwo = {'DeptName': 'ECE', 'Deptid':10}\n",
        "dictThree = {**dictOne,**dictTwo}\n",
        "print(dictThree)"
      ],
      "metadata": {
        "colab": {
          "base_uri": "https://localhost:8080/"
        },
        "id": "f7LzGqvTIf3m",
        "outputId": "1be559f4-7762-428e-9009-1d311c11827c"
      },
      "execution_count": 30,
      "outputs": [
        {
          "output_type": "stream",
          "name": "stdout",
          "text": [
            "{'Empid': 1234, 'Empname': 'a', 'Basicpay': 1500, 'DeptName': 'ECE', 'Deptid': 10}\n"
          ]
        }
      ]
    }
  ]
}